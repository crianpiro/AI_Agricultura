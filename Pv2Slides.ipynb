{
 "cells": [
  {
   "cell_type": "markdown",
   "metadata": {
    "slideshow": {
     "slide_type": "slide"
    }
   },
   "source": [
    "<img src=\"./images/BannerAI.png\" style=\"width:1000px;\">\n",
    "\n",
    "# Inteligencia Artificial 2019-1 Proyecto Agricultura\n",
    "\n",
    "- Cristian Andrés Picón Rodríguez - 2160082 \n",
    "- Andrea Juliana Villalba Santos    - 2162114 "
   ]
  },
  {
   "cell_type": "markdown",
   "metadata": {
    "slideshow": {
     "slide_type": "subslide"
    }
   },
   "source": [
    "Nuestros agricultores Colombianos por medio de su experiencia han logrado grandes resultados en la producción agrícola, sin embargo con ayuda de la inteligencia artificial y la recopilación de datos obtenidos de la experiencia de varios agricultores en diferentes regiones del país, se le otorga mas confiabilidad al proceso de predicción  y control de la producción agrícola."
   ]
  },
  {
   "cell_type": "markdown",
   "metadata": {
    "slideshow": {
     "slide_type": "subslide"
    }
   },
   "source": [
    "## OBJETIVO\n",
    "\n",
    "- Solucionar problemáticas referentes al tipo de cultivo o área a escoger, ayudar o predecir que cultivos plantar dependiendo la zona geográfica, y la viabilidad del cultivo entre otros datos que se están recopilando en data sets de internet.\n",
    "- Predecir que tipo de zona es acta para los cultivos, a partir de ciertas características, saber que tan productivo podría resultar el cultivo o que cultivo se podría obtener."
   ]
  },
  {
   "cell_type": "markdown",
   "metadata": {
    "colab_type": "text",
    "id": "lFFPpOmCtXlZ",
    "slideshow": {
     "slide_type": "slide"
    }
   },
   "source": [
    "## Creation of the useful DataSet"
   ]
  },
  {
   "cell_type": "markdown",
   "metadata": {
    "colab_type": "text",
    "id": "bJlyVXFuNq7k",
    "slideshow": {
     "slide_type": "fragment"
    }
   },
   "source": [
    "### Fixing Data:"
   ]
  },
  {
   "cell_type": "code",
   "execution_count": 0,
   "metadata": {
    "colab": {},
    "colab_type": "code",
    "id": "ilmNa-T172i8",
    "slideshow": {
     "slide_type": "fragment"
    }
   },
   "outputs": [],
   "source": [
    "#Obtener los Dataset\n",
    "\n",
    "DATA_DIR   = \"/content/drive/My Drive/AI_2019/Project/Project_Data/\"\n",
    "csvList    = []\n",
    "csvMapName = {}\n",
    "for index,csvName in enumerate(os.listdir(DATA_DIR)):\n",
    "    csvList.append(pd.read_csv(DATA_DIR + csvName))\n",
    "    structure = csvName.split('_')\n",
    "    #print(csvName)\n",
    "    csvMapName.update({\n",
    "        structure[2] : csvList[index]\n",
    "  }) "
   ]
  },
  {
   "cell_type": "code",
   "execution_count": 0,
   "metadata": {
    "colab": {},
    "colab_type": "code",
    "id": "J2QuX-iZrWE2",
    "slideshow": {
     "slide_type": "subslide"
    }
   },
   "outputs": [],
   "source": [
    "#Obtener las columnas que nos sirven del dataset cargado y ponerlas en el nuevo.\n",
    "\n",
    "csvDataMap  = {}\n",
    "csvDataList = []\n",
    "for index,i in enumerate(csvMapName):\n",
    "    Dtemp = pd.DataFrame(csvMapName[i])\n",
    "    tempCol = Dtemp.columns\n",
    "    csvDataset = pd.DataFrame({tempCol[1]:Dtemp[tempCol[1]],\n",
    "                            tempCol[3]:Dtemp[tempCol[3]],\n",
    "                            tempCol[5]:Dtemp[tempCol[5]],\n",
    "                            tempCol[10]:Dtemp[tempCol[10]],\n",
    "                            tempCol[11]:Dtemp[tempCol[11]],\n",
    "                            tempCol[12]:Dtemp[tempCol[12]],\n",
    "                            tempCol[13]:Dtemp[tempCol[13]],\n",
    "                            tempCol[14]:Dtemp[tempCol[14]]})\n",
    "    csvDataMap.update({i:csvDataset})\n",
    "for i in csvDataMap:\n",
    "    csvDataMap[i].columns=['DEPARTAMENTO','MUNICIPIO','CULTIVO',\n",
    "                                'PERIODO','Área Sembrada(ha)','Área Cosechada(ha)',\n",
    "                                'Producción(t)','Rendimiento(t/ha)']"
   ]
  },
  {
   "cell_type": "code",
   "execution_count": 0,
   "metadata": {
    "colab": {
     "base_uri": "https://localhost:8080/",
     "height": 204
    },
    "colab_type": "code",
    "id": "sohTZ8ir7AgO",
    "outputId": "cc8b8364-6af1-451f-d82a-79701584892e",
    "slideshow": {
     "slide_type": "subslide"
    }
   },
   "outputs": [
    {
     "data": {
      "text/html": [
       "<div>\n",
       "<style scoped>\n",
       "    .dataframe tbody tr th:only-of-type {\n",
       "        vertical-align: middle;\n",
       "    }\n",
       "\n",
       "    .dataframe tbody tr th {\n",
       "        vertical-align: top;\n",
       "    }\n",
       "\n",
       "    .dataframe thead th {\n",
       "        text-align: right;\n",
       "    }\n",
       "</style>\n",
       "<table border=\"1\" class=\"dataframe\">\n",
       "  <thead>\n",
       "    <tr style=\"text-align: right;\">\n",
       "      <th></th>\n",
       "      <th>DEPARTAMENTO</th>\n",
       "      <th>MUNICIPIO</th>\n",
       "      <th>CULTIVO</th>\n",
       "      <th>PERIODO</th>\n",
       "      <th>Área Sembrada(ha)</th>\n",
       "      <th>Área Cosechada(ha)</th>\n",
       "      <th>Producción(t)</th>\n",
       "      <th>Rendimiento(t/ha)</th>\n",
       "    </tr>\n",
       "  </thead>\n",
       "  <tbody>\n",
       "    <tr>\n",
       "      <th>0</th>\n",
       "      <td>ANTIOQUIA</td>\n",
       "      <td>PUERTO BERRIO</td>\n",
       "      <td>MAIZ FORRAJERO</td>\n",
       "      <td>2018A</td>\n",
       "      <td>150</td>\n",
       "      <td>150</td>\n",
       "      <td>4200</td>\n",
       "      <td>28.0</td>\n",
       "    </tr>\n",
       "    <tr>\n",
       "      <th>1</th>\n",
       "      <td>ANTIOQUIA</td>\n",
       "      <td>LA UNION</td>\n",
       "      <td>MAIZ FORRAJERO</td>\n",
       "      <td>2018A</td>\n",
       "      <td>23</td>\n",
       "      <td>22</td>\n",
       "      <td>726</td>\n",
       "      <td>33.0</td>\n",
       "    </tr>\n",
       "    <tr>\n",
       "      <th>2</th>\n",
       "      <td>CESAR</td>\n",
       "      <td>EL PASO</td>\n",
       "      <td>MAIZ FORRAJERO</td>\n",
       "      <td>2018A</td>\n",
       "      <td>320</td>\n",
       "      <td>74</td>\n",
       "      <td>222</td>\n",
       "      <td>3.0</td>\n",
       "    </tr>\n",
       "    <tr>\n",
       "      <th>3</th>\n",
       "      <td>CESAR</td>\n",
       "      <td>SAN ALBERTO</td>\n",
       "      <td>MAIZ FORRAJERO</td>\n",
       "      <td>2018A</td>\n",
       "      <td>35</td>\n",
       "      <td>0</td>\n",
       "      <td>0</td>\n",
       "      <td>0.0</td>\n",
       "    </tr>\n",
       "    <tr>\n",
       "      <th>4</th>\n",
       "      <td>CESAR</td>\n",
       "      <td>GONZALEZ</td>\n",
       "      <td>MAIZ FORRAJERO</td>\n",
       "      <td>2018A</td>\n",
       "      <td>31</td>\n",
       "      <td>0</td>\n",
       "      <td>0</td>\n",
       "      <td>0.0</td>\n",
       "    </tr>\n",
       "  </tbody>\n",
       "</table>\n",
       "</div>"
      ],
      "text/plain": [
       "  DEPARTAMENTO      MUNICIPIO  ... Producción(t) Rendimiento(t/ha)\n",
       "0    ANTIOQUIA  PUERTO BERRIO  ...          4200              28.0\n",
       "1    ANTIOQUIA       LA UNION  ...           726              33.0\n",
       "2        CESAR        EL PASO  ...           222               3.0\n",
       "3        CESAR    SAN ALBERTO  ...             0               0.0\n",
       "4        CESAR       GONZALEZ  ...             0               0.0\n",
       "\n",
       "[5 rows x 8 columns]"
      ]
     },
     "execution_count": 182,
     "metadata": {
      "tags": []
     },
     "output_type": "execute_result"
    }
   ],
   "source": [
    "csvDataMap['Maiz'].head()"
   ]
  },
  {
   "cell_type": "markdown",
   "metadata": {
    "colab_type": "text",
    "id": "XSBPxVoj7D5q",
    "slideshow": {
     "slide_type": "fragment"
    }
   },
   "source": [
    "Para el tratamiento de datos es necesario reemplazar todos los datos alfanúmericos en el Data Frame por valores númericos. \n",
    "\n",
    "En los siguientes Dataframes se encuentran los Departamentos, Municipios, Subgrupo de Cultivo y Perido con sus respectivos ID."
   ]
  },
  {
   "cell_type": "code",
   "execution_count": 0,
   "metadata": {
    "colab": {
     "base_uri": "https://localhost:8080/",
     "height": 221
    },
    "colab_type": "code",
    "id": "IjKcFxVjg_zB",
    "outputId": "11d9f40d-cf4f-4db3-8a94-b19a145473e6",
    "slideshow": {
     "slide_type": "slide"
    }
   },
   "outputs": [
    {
     "name": "stdout",
     "output_type": "stream",
     "text": [
      "(32, 1)\n"
     ]
    },
    {
     "data": {
      "text/html": [
       "<div>\n",
       "<style scoped>\n",
       "    .dataframe tbody tr th:only-of-type {\n",
       "        vertical-align: middle;\n",
       "    }\n",
       "\n",
       "    .dataframe tbody tr th {\n",
       "        vertical-align: top;\n",
       "    }\n",
       "\n",
       "    .dataframe thead th {\n",
       "        text-align: right;\n",
       "    }\n",
       "</style>\n",
       "<table border=\"1\" class=\"dataframe\">\n",
       "  <thead>\n",
       "    <tr style=\"text-align: right;\">\n",
       "      <th></th>\n",
       "      <th>Departamento</th>\n",
       "    </tr>\n",
       "  </thead>\n",
       "  <tbody>\n",
       "    <tr>\n",
       "      <th>0</th>\n",
       "      <td>AMAZONAS</td>\n",
       "    </tr>\n",
       "    <tr>\n",
       "      <th>1</th>\n",
       "      <td>ANTIOQUIA</td>\n",
       "    </tr>\n",
       "    <tr>\n",
       "      <th>2</th>\n",
       "      <td>ARAUCA</td>\n",
       "    </tr>\n",
       "    <tr>\n",
       "      <th>3</th>\n",
       "      <td>ATLANTICO</td>\n",
       "    </tr>\n",
       "    <tr>\n",
       "      <th>4</th>\n",
       "      <td>BOLIVAR</td>\n",
       "    </tr>\n",
       "  </tbody>\n",
       "</table>\n",
       "</div>"
      ],
      "text/plain": [
       "  Departamento\n",
       "0     AMAZONAS\n",
       "1    ANTIOQUIA\n",
       "2       ARAUCA\n",
       "3    ATLANTICO\n",
       "4      BOLIVAR"
      ]
     },
     "execution_count": 184,
     "metadata": {
      "tags": []
     },
     "output_type": "execute_result"
    }
   ],
   "source": [
    "DepId = {}\n",
    "tempFullMap = []\n",
    "tempRow = []\n",
    "newData = pd.DataFrame()\n",
    "for index,i in enumerate(csvDataMap):\n",
    "  tempData = csvDataMap[i]        #Cada Dataset \n",
    "  tempCol = tempData.columns #Nombre de las columnas del Dataset\n",
    "  tempColData = tempData[tempCol[0]].drop_duplicates()\n",
    "  for k in tempColData:\n",
    "    tempRow.append(k)\n",
    "final = pd.Series(sorted(tempRow)).drop_duplicates()\n",
    "final = final.reset_index()\n",
    "del final['index']\n",
    "final = final.rename(columns = {0:'Departamento'})\n",
    "for m,n in enumerate(final['Departamento']):\n",
    "  DepId.update({m:n})\n",
    "print(final.shape)\n",
    "final.head()"
   ]
  },
  {
   "cell_type": "code",
   "execution_count": 0,
   "metadata": {
    "colab": {
     "base_uri": "https://localhost:8080/",
     "height": 71
    },
    "colab_type": "code",
    "id": "GwyJt7suSo1a",
    "outputId": "af09ece8-383a-46f3-fcbf-f1af179e73d3",
    "slideshow": {
     "slide_type": "slide"
    }
   },
   "outputs": [
    {
     "name": "stderr",
     "output_type": "stream",
     "text": [
      "/usr/local/lib/python3.6/dist-packages/pandas/core/ops.py:1649: FutureWarning: elementwise comparison failed; returning scalar instead, but in the future will perform elementwise comparison\n",
      "  result = method(y)\n"
     ]
    }
   ],
   "source": [
    "for index,i in enumerate(csvDataMap):    #Cada Dataset \n",
    "  for j in final['Departamento']:        #Cada Departamento\n",
    "    cont = csvDataMap[i][csvDataMap[i].DEPARTAMENTO==j]['DEPARTAMENTO'].index\n",
    "    if(cont.size > 0):\n",
    "      for p in cont:\n",
    "        csvDataMap[i].loc[p,'DEPARTAMENTO'] = list(DepId.keys())[list(DepId.values()).index(j)]        "
   ]
  },
  {
   "cell_type": "markdown",
   "metadata": {
    "slideshow": {
     "slide_type": "fragment"
    }
   },
   "source": [
    "Data from 990 Municipalities and 32 Departments are used in the project."
   ]
  },
  {
   "cell_type": "code",
   "execution_count": 0,
   "metadata": {
    "colab": {
     "base_uri": "https://localhost:8080/",
     "height": 204
    },
    "colab_type": "code",
    "id": "ulD3T_sjkUeN",
    "outputId": "e946aeeb-eb2a-4e30-fc51-bf1e23ea802e",
    "slideshow": {
     "slide_type": "subslide"
    }
   },
   "outputs": [
    {
     "data": {
      "text/html": [
       "<div>\n",
       "<style scoped>\n",
       "    .dataframe tbody tr th:only-of-type {\n",
       "        vertical-align: middle;\n",
       "    }\n",
       "\n",
       "    .dataframe tbody tr th {\n",
       "        vertical-align: top;\n",
       "    }\n",
       "\n",
       "    .dataframe thead th {\n",
       "        text-align: right;\n",
       "    }\n",
       "</style>\n",
       "<table border=\"1\" class=\"dataframe\">\n",
       "  <thead>\n",
       "    <tr style=\"text-align: right;\">\n",
       "      <th></th>\n",
       "      <th>DEPARTAMENTO</th>\n",
       "      <th>MUNICIPIO</th>\n",
       "      <th>CULTIVO</th>\n",
       "      <th>PERIODO</th>\n",
       "      <th>Área Sembrada(ha)</th>\n",
       "      <th>Área Cosechada(ha)</th>\n",
       "      <th>Producción(t)</th>\n",
       "      <th>Rendimiento(t/ha)</th>\n",
       "    </tr>\n",
       "  </thead>\n",
       "  <tbody>\n",
       "    <tr>\n",
       "      <th>0</th>\n",
       "      <td>1</td>\n",
       "      <td>635</td>\n",
       "      <td>4</td>\n",
       "      <td>3</td>\n",
       "      <td>150</td>\n",
       "      <td>150</td>\n",
       "      <td>4200</td>\n",
       "      <td>28.0</td>\n",
       "    </tr>\n",
       "    <tr>\n",
       "      <th>1</th>\n",
       "      <td>1</td>\n",
       "      <td>435</td>\n",
       "      <td>4</td>\n",
       "      <td>3</td>\n",
       "      <td>23</td>\n",
       "      <td>22</td>\n",
       "      <td>726</td>\n",
       "      <td>33.0</td>\n",
       "    </tr>\n",
       "    <tr>\n",
       "      <th>2</th>\n",
       "      <td>10</td>\n",
       "      <td>275</td>\n",
       "      <td>4</td>\n",
       "      <td>3</td>\n",
       "      <td>320</td>\n",
       "      <td>74</td>\n",
       "      <td>222</td>\n",
       "      <td>3.0</td>\n",
       "    </tr>\n",
       "    <tr>\n",
       "      <th>3</th>\n",
       "      <td>10</td>\n",
       "      <td>717</td>\n",
       "      <td>4</td>\n",
       "      <td>3</td>\n",
       "      <td>35</td>\n",
       "      <td>0</td>\n",
       "      <td>0</td>\n",
       "      <td>0.0</td>\n",
       "    </tr>\n",
       "    <tr>\n",
       "      <th>4</th>\n",
       "      <td>10</td>\n",
       "      <td>342</td>\n",
       "      <td>4</td>\n",
       "      <td>3</td>\n",
       "      <td>31</td>\n",
       "      <td>0</td>\n",
       "      <td>0</td>\n",
       "      <td>0.0</td>\n",
       "    </tr>\n",
       "  </tbody>\n",
       "</table>\n",
       "</div>"
      ],
      "text/plain": [
       "   DEPARTAMENTO  MUNICIPIO  ...  Producción(t)  Rendimiento(t/ha)\n",
       "0             1        635  ...           4200               28.0\n",
       "1             1        435  ...            726               33.0\n",
       "2            10        275  ...            222                3.0\n",
       "3            10        717  ...              0                0.0\n",
       "4            10        342  ...              0                0.0\n",
       "\n",
       "[5 rows x 8 columns]"
      ]
     },
     "execution_count": 192,
     "metadata": {
      "tags": []
     },
     "output_type": "execute_result"
    }
   ],
   "source": [
    "DepId.\n",
    "csvDataMap['Maiz'].head()"
   ]
  },
  {
   "cell_type": "markdown",
   "metadata": {
    "colab_type": "text",
    "id": "rFabl0fkP0AM",
    "slideshow": {
     "slide_type": "subslide"
    }
   },
   "source": [
    "**Saving the datasets into a new csv.**"
   ]
  },
  {
   "cell_type": "code",
   "execution_count": 0,
   "metadata": {
    "colab": {},
    "colab_type": "code",
    "id": "rzpcQSJilZ6a",
    "slideshow": {
     "slide_type": "fragment"
    }
   },
   "outputs": [],
   "source": [
    "DATA_DIR2 = \"/content/drive/My Drive/AI_2019/Project/DataT/\"\n",
    "for i in csvDataMap: # csvDataMap es el diccionario que contiene todos los dataset\n",
    "  csvDataMap[i].to_csv(DATA_DIR2+i+'.csv')\n",
    "  "
   ]
  },
  {
   "cell_type": "markdown",
   "metadata": {
    "colab_type": "text",
    "id": "Kxatpu_OOW2m",
    "slideshow": {
     "slide_type": "fragment"
    }
   },
   "source": [
    "### To obtain the new data. (Final Data)"
   ]
  },
  {
   "cell_type": "code",
   "execution_count": 0,
   "metadata": {
    "colab": {},
    "colab_type": "code",
    "id": "c3cZeu7POcbH",
    "slideshow": {
     "slide_type": "fragment"
    }
   },
   "outputs": [],
   "source": [
    "DATA_DIR   = \"/content/drive/My Drive/AI_2019/Project/DataT/\"\n",
    "csvList    = []\n",
    "csvDataMap = {}\n",
    "for index,csvName in enumerate(os.listdir(DATA_DIR)):\n",
    "  csvList.append(pd.read_csv(DATA_DIR + csvName))\n",
    "  structure = csvName.split('.')\n",
    "  #print(csvName)\n",
    "  csvDataMap.update({\n",
    "      structure[0] : csvList[index]\n",
    "  }) "
   ]
  },
  {
   "cell_type": "markdown",
   "metadata": {
    "colab_type": "text",
    "id": "_b4CFLx_rM9D",
    "slideshow": {
     "slide_type": "slide"
    }
   },
   "source": [
    "## The variable csvMapName is a Dictionary with the Datasets\n",
    "\\\n",
    "The Keys to get every Datasets are:"
   ]
  },
  {
   "cell_type": "code",
   "execution_count": 4,
   "metadata": {
    "colab": {
     "base_uri": "https://localhost:8080/",
     "height": 34
    },
    "colab_type": "code",
    "id": "-De2Hz8ISRsq",
    "outputId": "86e7966c-84f4-451b-c88a-4e647248ce9e",
    "slideshow": {
     "slide_type": "fragment"
    }
   },
   "outputs": [
    {
     "name": "stdout",
     "output_type": "stream",
     "text": [
      "['Cafe', 'Maiz', 'Tomate', 'Soya', 'Cacao', 'Aguacate']\n"
     ]
    }
   ],
   "source": [
    "keys=list(csvDataMap.keys())  ##Listar las keys para acceder a los DataSets\n",
    "print(keys)"
   ]
  },
  {
   "cell_type": "markdown",
   "metadata": {
    "colab_type": "text",
    "id": "_mtx8R4fRAHV",
    "slideshow": {
     "slide_type": "fragment"
    }
   },
   "source": [
    "We can access to every Dataset using : \n",
    "\\\n",
    "**csvDataMap\\['key'] = csvDataMap\\['Maiz']**"
   ]
  },
  {
   "cell_type": "markdown",
   "metadata": {
    "colab_type": "text",
    "id": "jxJJCymsoSg8",
    "slideshow": {
     "slide_type": "slide"
    }
   },
   "source": [
    "## Graphics"
   ]
  },
  {
   "cell_type": "markdown",
   "metadata": {
    "colab_type": "text",
    "id": "jApc0SA3epet",
    "slideshow": {
     "slide_type": "fragment"
    }
   },
   "source": [
    "### Kmeans and DBS"
   ]
  },
  {
   "cell_type": "markdown",
   "metadata": {
    "slideshow": {
     "slide_type": "fragment"
    }
   },
   "source": [
    "<img src=\"./images/kmeans.png\" style=\"height:350px;\">\n"
   ]
  },
  {
   "cell_type": "markdown",
   "metadata": {
    "colab_type": "text",
    "id": "oEUPWHoZ9sii",
    "slideshow": {
     "slide_type": "fragment"
    }
   },
   "source": [
    "It can be noted that Kmeans did not classify by periods but by levels of production, regardless of the time or period the amount of production is classified."
   ]
  },
  {
   "cell_type": "markdown",
   "metadata": {
    "slideshow": {
     "slide_type": "subslide"
    }
   },
   "source": [
    "<img src=\"./images/Kmeans2.png\" style=\"width:1200px;\">"
   ]
  },
  {
   "cell_type": "markdown",
   "metadata": {
    "colab_type": "text",
    "id": "hcqo3WSX_U43",
    "slideshow": {
     "slide_type": "fragment"
    }
   },
   "source": [
    "Production in some municipalities is lower in this crop, this is due to territorial factors such as soil type, climate, among others."
   ]
  },
  {
   "cell_type": "markdown",
   "metadata": {
    "slideshow": {
     "slide_type": "subslide"
    }
   },
   "source": [
    "<img src=\"./images/Kmeans3.png\" style=\"width:700px;\">"
   ]
  },
  {
   "cell_type": "markdown",
   "metadata": {
    "slideshow": {
     "slide_type": "subslide"
    }
   },
   "source": [
    "<img src=\"./images/Kmeans4.png\" style=\"width:700px;\">"
   ]
  },
  {
   "cell_type": "markdown",
   "metadata": {
    "slideshow": {
     "slide_type": "slide"
    }
   },
   "source": [
    "### Location data (latitude and longitude) are used to graph the production of the departments depending on the area."
   ]
  },
  {
   "cell_type": "code",
   "execution_count": 16,
   "metadata": {
    "colab": {
     "base_uri": "https://localhost:8080/",
     "height": 204
    },
    "colab_type": "code",
    "id": "do-dqUiOP8UM",
    "outputId": "0749aaa7-5ef4-4fd6-e403-50188a690eb7",
    "slideshow": {
     "slide_type": "fragment"
    }
   },
   "outputs": [
    {
     "data": {
      "text/html": [
       "<div>\n",
       "<style scoped>\n",
       "    .dataframe tbody tr th:only-of-type {\n",
       "        vertical-align: middle;\n",
       "    }\n",
       "\n",
       "    .dataframe tbody tr th {\n",
       "        vertical-align: top;\n",
       "    }\n",
       "\n",
       "    .dataframe thead th {\n",
       "        text-align: right;\n",
       "    }\n",
       "</style>\n",
       "<table border=\"1\" class=\"dataframe\">\n",
       "  <thead>\n",
       "    <tr style=\"text-align: right;\">\n",
       "      <th></th>\n",
       "      <th>departamento</th>\n",
       "      <th>latitud</th>\n",
       "      <th>longitud</th>\n",
       "      <th>promCafe</th>\n",
       "      <th>promMaiz</th>\n",
       "      <th>promTomate</th>\n",
       "      <th>promSoya</th>\n",
       "      <th>promCacao</th>\n",
       "      <th>promAguacate</th>\n",
       "    </tr>\n",
       "  </thead>\n",
       "  <tbody>\n",
       "    <tr>\n",
       "      <th>0</th>\n",
       "      <td>0</td>\n",
       "      <td>-1.019722</td>\n",
       "      <td>-71.938333</td>\n",
       "      <td>0.000000</td>\n",
       "      <td>32.000000</td>\n",
       "      <td>1.428571</td>\n",
       "      <td>0.0</td>\n",
       "      <td>7.833333</td>\n",
       "      <td>104.000000</td>\n",
       "    </tr>\n",
       "    <tr>\n",
       "      <th>1</th>\n",
       "      <td>1</td>\n",
       "      <td>7.000000</td>\n",
       "      <td>-75.500000</td>\n",
       "      <td>1426.492908</td>\n",
       "      <td>275.985272</td>\n",
       "      <td>1301.769585</td>\n",
       "      <td>0.0</td>\n",
       "      <td>149.630769</td>\n",
       "      <td>1437.417021</td>\n",
       "    </tr>\n",
       "    <tr>\n",
       "      <th>2</th>\n",
       "      <td>2</td>\n",
       "      <td>7.090278</td>\n",
       "      <td>-70.761667</td>\n",
       "      <td>0.000000</td>\n",
       "      <td>1443.081633</td>\n",
       "      <td>0.000000</td>\n",
       "      <td>0.0</td>\n",
       "      <td>1346.714286</td>\n",
       "      <td>721.187500</td>\n",
       "    </tr>\n",
       "    <tr>\n",
       "      <th>3</th>\n",
       "      <td>3</td>\n",
       "      <td>10.750000</td>\n",
       "      <td>-75.000000</td>\n",
       "      <td>0.000000</td>\n",
       "      <td>189.525510</td>\n",
       "      <td>115.448276</td>\n",
       "      <td>0.0</td>\n",
       "      <td>0.000000</td>\n",
       "      <td>55.000000</td>\n",
       "    </tr>\n",
       "    <tr>\n",
       "      <th>4</th>\n",
       "      <td>4</td>\n",
       "      <td>9.000000</td>\n",
       "      <td>-74.333333</td>\n",
       "      <td>435.500000</td>\n",
       "      <td>1207.575301</td>\n",
       "      <td>1.000000</td>\n",
       "      <td>0.0</td>\n",
       "      <td>131.516667</td>\n",
       "      <td>3132.666667</td>\n",
       "    </tr>\n",
       "  </tbody>\n",
       "</table>\n",
       "</div>"
      ],
      "text/plain": [
       "  departamento    latitud   longitud  ...  promSoya    promCacao  promAguacate\n",
       "0            0  -1.019722 -71.938333  ...       0.0     7.833333    104.000000\n",
       "1            1   7.000000 -75.500000  ...       0.0   149.630769   1437.417021\n",
       "2            2   7.090278 -70.761667  ...       0.0  1346.714286    721.187500\n",
       "3            3  10.750000 -75.000000  ...       0.0     0.000000     55.000000\n",
       "4            4   9.000000 -74.333333  ...       0.0   131.516667   3132.666667\n",
       "\n",
       "[5 rows x 9 columns]"
      ]
     },
     "execution_count": 16,
     "metadata": {
      "tags": []
     },
     "output_type": "execute_result"
    }
   ],
   "source": [
    "locations.head()"
   ]
  },
  {
   "cell_type": "markdown",
   "metadata": {
    "colab_type": "text",
    "id": "DgSJOptGtS80",
    "slideshow": {
     "slide_type": "slide"
    }
   },
   "source": [
    "### Avocado production\n"
   ]
  },
  {
   "cell_type": "markdown",
   "metadata": {
    "slideshow": {
     "slide_type": "fragment"
    }
   },
   "source": [
    "<img src=\"./images/Avocado.png\" style=\"width:750px;\">"
   ]
  },
  {
   "cell_type": "markdown",
   "metadata": {
    "slideshow": {
     "slide_type": "fragment"
    }
   },
   "source": [
    "### It can be seen that avocado is grown mostly in the Pacific region, on the other hand, departments like Guainia do not have avocado production."
   ]
  },
  {
   "cell_type": "markdown",
   "metadata": {
    "colab_type": "text",
    "id": "hPt-Curwyktn",
    "slideshow": {
     "slide_type": "subslide"
    }
   },
   "source": [
    "### Soy production"
   ]
  },
  {
   "cell_type": "markdown",
   "metadata": {
    "slideshow": {
     "slide_type": "fragment"
    }
   },
   "source": [
    "<img src=\"./images/Soy.png\" style=\"width:700px;\">\n"
   ]
  },
  {
   "cell_type": "markdown",
   "metadata": {
    "slideshow": {
     "slide_type": "fragment"
    }
   },
   "source": [
    "### In this case, soy production occurs mostly in the departments of Meta and Vichada, while in departments such as Valle del Cauca the production is very small."
   ]
  },
  {
   "cell_type": "markdown",
   "metadata": {
    "colab_type": "text",
    "id": "qZsKnZBzCqw-",
    "slideshow": {
     "slide_type": "slide"
    }
   },
   "source": [
    "## Data Treatment - Regression\n"
   ]
  },
  {
   "cell_type": "markdown",
   "metadata": {
    "slideshow": {
     "slide_type": "fragment"
    }
   },
   "source": [
    "<img src=\"./images/MScatter.PNG\" style=\"width:500px;\">"
   ]
  },
  {
   "cell_type": "markdown",
   "metadata": {
    "colab_type": "text",
    "id": "vZEUwh755n3S",
    "slideshow": {
     "slide_type": "subslide"
    }
   },
   "source": [
    "### Decision Tree Regressor"
   ]
  },
  {
   "cell_type": "markdown",
   "metadata": {
    "slideshow": {
     "slide_type": "fragment"
    }
   },
   "source": [
    "<img src=\"./images/DTR.png\" style=\"width:500px;\">"
   ]
  },
  {
   "cell_type": "code",
   "execution_count": 0,
   "metadata": {
    "colab": {
     "base_uri": "https://localhost:8080/",
     "height": 34
    },
    "colab_type": "code",
    "id": "7CZuJSb7Gnhv",
    "outputId": "a630e47e-25f5-489b-bc4c-d104b868b70c",
    "slideshow": {
     "slide_type": "subslide"
    }
   },
   "outputs": [
    {
     "name": "stdout",
     "output_type": "stream",
     "text": [
      "MSE 0.067 (+/- 0.02774)\n"
     ]
    }
   ],
   "source": [
    "# Normalizacion de los datos de entrenamiento y test\n",
    "Xnormalizer = StandardScaler().fit(X_train)\n",
    "XTnormalizer = StandardScaler().fit(X_test)\n",
    "Ynormalizer = StandardScaler().fit(y_train)\n",
    "XTrain = Xnormalizer.transform(X_train)\n",
    "YTrain = Ynormalizer.transform(y_train)\n",
    "XTest = XTnormalizer.transform(X_test)\n",
    "\n",
    "\n",
    "DTR = DecisionTreeRegressor()\n",
    "DTR.fit(X_train,y_train)\n",
    "\n",
    "s = cross_val_score(DTR, XTrain, YTrain, cv=KFold(10, shuffle=True), scoring=make_scorer(mean_squared_error))\n",
    "print(\"MSE %.3f (+/- %.5f)\"%(np.mean(s), np.std(s)))"
   ]
  },
  {
   "cell_type": "markdown",
   "metadata": {
    "colab_type": "text",
    "id": "6P8HVG8n5r0B",
    "slideshow": {
     "slide_type": "subslide"
    }
   },
   "source": [
    "### SVR"
   ]
  },
  {
   "cell_type": "markdown",
   "metadata": {
    "slideshow": {
     "slide_type": "fragment"
    }
   },
   "source": [
    "<img src=\"./images/SVR.png\" style=\"width:500px;\">"
   ]
  },
  {
   "cell_type": "code",
   "execution_count": 0,
   "metadata": {
    "colab": {
     "base_uri": "https://localhost:8080/",
     "height": 34
    },
    "colab_type": "code",
    "id": "M9f7nha3Ko57",
    "outputId": "260ea5ca-1084-45fe-8042-8ad907679258",
    "slideshow": {
     "slide_type": "subslide"
    }
   },
   "outputs": [
    {
     "name": "stdout",
     "output_type": "stream",
     "text": [
      "MSE 0.086 (+/- 0.08603)\n"
     ]
    }
   ],
   "source": [
    "svr = SVR(gamma='auto')\n",
    "svr.fit(X_train,y_train.ravel())\n",
    "s = cross_val_score(svr, XTrain, YTrain.ravel(), cv=KFold(10, shuffle=True), scoring=make_scorer(mean_squared_error))\n",
    "print(\"MSE %.3f (+/- %.5f)\"%(np.mean(s), np.std(s)))"
   ]
  },
  {
   "cell_type": "markdown",
   "metadata": {
    "colab_type": "text",
    "id": "LSvnM_t855bW",
    "slideshow": {
     "slide_type": "subslide"
    }
   },
   "source": [
    "### Random Forest Regressor"
   ]
  },
  {
   "cell_type": "markdown",
   "metadata": {
    "slideshow": {
     "slide_type": "fragment"
    }
   },
   "source": [
    "<img src=\"./images/RFR.png\" style=\"width:500px;\">"
   ]
  },
  {
   "cell_type": "code",
   "execution_count": 0,
   "metadata": {
    "colab": {
     "base_uri": "https://localhost:8080/",
     "height": 34
    },
    "colab_type": "code",
    "id": "IWhqtnegfCYW",
    "outputId": "77684133-6246-4828-9f2b-ea523c65e472",
    "slideshow": {
     "slide_type": "subslide"
    }
   },
   "outputs": [
    {
     "name": "stdout",
     "output_type": "stream",
     "text": [
      "MSE 0.043 (+/- 0.00864)\n"
     ]
    }
   ],
   "source": [
    "RFR = RandomForestRegressor(n_estimators=100)\n",
    "RFR.fit(X_train, y_train.ravel())\n",
    "s = cross_val_score(RFR, XTrain, YTrain.ravel(), cv=KFold(10, shuffle=True), scoring=make_scorer(mean_squared_error))\n",
    "print(\"MSE %.3f (+/- %.5f)\"%(np.mean(s), np.std(s)))"
   ]
  },
  {
   "cell_type": "markdown",
   "metadata": {
    "colab_type": "text",
    "id": "WnAMSOv26ghR",
    "slideshow": {
     "slide_type": "slide"
    }
   },
   "source": [
    "### Predictions"
   ]
  },
  {
   "cell_type": "code",
   "execution_count": 0,
   "metadata": {
    "colab": {},
    "colab_type": "code",
    "id": "SgVbkDRcRECu",
    "slideshow": {
     "slide_type": "fragment"
    }
   },
   "outputs": [],
   "source": [
    "DTR_Predictions = DTR.predict(X_test)"
   ]
  },
  {
   "cell_type": "code",
   "execution_count": 0,
   "metadata": {
    "colab": {},
    "colab_type": "code",
    "id": "WrIss3nojyJS",
    "slideshow": {
     "slide_type": "fragment"
    }
   },
   "outputs": [],
   "source": [
    "SVR_Predictions = svr.predict(X_test)"
   ]
  },
  {
   "cell_type": "code",
   "execution_count": 0,
   "metadata": {
    "colab": {},
    "colab_type": "code",
    "id": "NdpGeEGy6y4H",
    "slideshow": {
     "slide_type": "fragment"
    }
   },
   "outputs": [],
   "source": [
    "RFR_Predictions = RFR.predict(X_test)"
   ]
  },
  {
   "cell_type": "markdown",
   "metadata": {
    "colab_type": "text",
    "id": "D3CRXyMi3cbK",
    "slideshow": {
     "slide_type": "subslide"
    }
   },
   "source": [
    "### Comparing the regressors"
   ]
  },
  {
   "cell_type": "markdown",
   "metadata": {
    "slideshow": {
     "slide_type": "fragment"
    }
   },
   "source": [
    "<img src=\"./images/Regressors.png\" style=\"width:500px;\">"
   ]
  },
  {
   "cell_type": "markdown",
   "metadata": {
    "colab_type": "text",
    "id": "12jnfuRD3p1g",
    "slideshow": {
     "slide_type": "fragment"
    }
   },
   "source": [
    "We note that the RFR and DTR have a similar behavior and that on the other hand the SVR behaves in a way that does not satisfy the problem, that is, the SVR solution is not a solution to our problem."
   ]
  },
  {
   "cell_type": "markdown",
   "metadata": {
    "slideshow": {
     "slide_type": "subslide"
    }
   },
   "source": [
    "<img src=\"./images/DTRreal.png\" style=\"width:800px;\">"
   ]
  },
  {
   "cell_type": "markdown",
   "metadata": {
    "slideshow": {
     "slide_type": "subslide"
    }
   },
   "source": [
    "<img src=\"./images/RFRreal.png\" style=\"width:800px;\">"
   ]
  },
  {
   "cell_type": "markdown",
   "metadata": {
    "colab_type": "text",
    "id": "gd-HkozU7qQP",
    "slideshow": {
     "slide_type": "fragment"
    }
   },
   "source": [
    "It can be noted that in both cases the predictions converge towards the actual results."
   ]
  },
  {
   "cell_type": "markdown",
   "metadata": {
    "colab_type": "text",
    "id": "67nDL1hzjBxB",
    "slideshow": {
     "slide_type": "slide"
    }
   },
   "source": [
    "## Data treatment - Classification"
   ]
  },
  {
   "cell_type": "code",
   "execution_count": 0,
   "metadata": {
    "colab": {},
    "colab_type": "code",
    "id": "Frafy9IxDXvR",
    "slideshow": {
     "slide_type": "fragment"
    }
   },
   "outputs": [],
   "source": [
    "for i in csvDataMap:\n",
    "  csvDataMap[i][\"class\"] = ((csvDataMap[i][\"Área Cosechada(ha)\"] > (csvDataMap[i][\"Área Sembrada(ha)\"]*0.5)) & (csvDataMap[i][\"Área Cosechada(ha)\"] <= csvDataMap[i][\"Área Sembrada(ha)\"]))*1\n",
    "  "
   ]
  },
  {
   "cell_type": "markdown",
   "metadata": {
    "slideshow": {
     "slide_type": "subslide"
    }
   },
   "source": [
    "<img src=\"./images/GaussianNB.PNG\" style=\"height:300px;\">"
   ]
  },
  {
   "cell_type": "markdown",
   "metadata": {
    "slideshow": {
     "slide_type": "subslide"
    }
   },
   "source": [
    "<img src=\"./images/DecisionTree.PNG\" style=\"height:300px;\">"
   ]
  },
  {
   "cell_type": "markdown",
   "metadata": {
    "slideshow": {
     "slide_type": "subslide"
    }
   },
   "source": [
    "<img src=\"./images/RandomForest.PNG\" style=\"height:300px;\">"
   ]
  },
  {
   "cell_type": "markdown",
   "metadata": {
    "slideshow": {
     "slide_type": "subslide"
    }
   },
   "source": [
    "<img src=\"./images/SVC.PNG\" style=\"height:300px;\">"
   ]
  },
  {
   "cell_type": "code",
   "execution_count": 53,
   "metadata": {
    "colab": {
     "base_uri": "https://localhost:8080/",
     "height": 51
    },
    "colab_type": "code",
    "id": "Y6IpJdv_jehJ",
    "outputId": "86a4d6c6-f112-40eb-d5e5-ac047fde7a20",
    "slideshow": {
     "slide_type": "subslide"
    }
   },
   "outputs": [
    {
     "name": "stdout",
     "output_type": "stream",
     "text": [
      "X shape (1799, 5)\n",
      "accuracy 0.986 (+/- 0.00667)\n"
     ]
    }
   ],
   "source": [
    "from sklearn.decomposition import PCA\n",
    "from sklearn.naive_bayes import GaussianNB\n",
    "\n",
    "from sklearn.model_selection import cross_val_score, KFold\n",
    "s = cross_val_score(GaussianNB(), X, y, cv=KFold(10, shuffle=True), scoring=make_scorer(accuracy_score))\n",
    "print (\"X shape\", X.shape)\n",
    "print (\"accuracy %.3f (+/- %.5f)\"%(np.mean(s), np.std(s)))"
   ]
  },
  {
   "cell_type": "code",
   "execution_count": 54,
   "metadata": {
    "colab": {
     "base_uri": "https://localhost:8080/",
     "height": 51
    },
    "colab_type": "code",
    "id": "YVTY2fTTjgqT",
    "outputId": "666deb38-7fd1-4c9e-c65c-173cea7e4977",
    "slideshow": {
     "slide_type": "fragment"
    }
   },
   "outputs": [
    {
     "name": "stdout",
     "output_type": "stream",
     "text": [
      "shape after PCA  (1799, 3)\n",
      "accuracy 0.987 (+/- 0.00712)\n"
     ]
    }
   ],
   "source": [
    "X = PCA(n_components=3).fit_transform(X)\n",
    "print (\"shape after PCA \", X.shape)\n",
    "s = cross_val_score(GaussianNB(), X, y, cv=KFold(10, shuffle=True), scoring=make_scorer(accuracy_score))\n",
    "print (\"accuracy %.3f (+/- %.5f)\"%(np.mean(s), np.std(s)))"
   ]
  },
  {
   "cell_type": "markdown",
   "metadata": {
    "slideshow": {
     "slide_type": "subslide"
    }
   },
   "source": [
    "## Gracias!"
   ]
  }
 ],
 "metadata": {
  "celltoolbar": "Slideshow",
  "colab": {
   "collapsed_sections": [],
   "name": "Pv2.ipynb",
   "provenance": [],
   "version": "0.3.2"
  },
  "kernelspec": {
   "display_name": "Python 3",
   "language": "python",
   "name": "python3"
  },
  "language_info": {
   "codemirror_mode": {
    "name": "ipython",
    "version": 3
   },
   "file_extension": ".py",
   "mimetype": "text/x-python",
   "name": "python",
   "nbconvert_exporter": "python",
   "pygments_lexer": "ipython3",
   "version": "3.6.8"
  }
 },
 "nbformat": 4,
 "nbformat_minor": 1
}
